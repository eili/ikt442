{
 "cells": [
  {
   "cell_type": "markdown",
   "metadata": {},
   "source": [
    "Python script to find the best weight from training result.\n",
    "Darknet writes weights to folder Backup by default, change path according to you setup."
   ]
  },
  {
   "cell_type": "code",
   "execution_count": 27,
   "metadata": {
    "scrolled": false
   },
   "outputs": [],
   "source": [
    "import subprocess\n",
    "from os import listdir"
   ]
  },
  {
   "cell_type": "code",
   "execution_count": 28,
   "metadata": {},
   "outputs": [
    {
     "name": "stdout",
     "output_type": "stream",
     "text": [
      "Backup/\n"
     ]
    }
   ],
   "source": [
    "path = \"Backup/\""
   ]
  },
  {
   "cell_type": "markdown",
   "metadata": {},
   "source": [
    "Find the mAP value from the text result of map function\n",
    "(mAP) = 0.708665, will return the float value 0.708665"
   ]
  },
  {
   "cell_type": "code",
   "execution_count": 29,
   "metadata": {},
   "outputs": [],
   "source": [
    "def find_map_in(text):\n",
    "    nstart = text.find(\"mAP\")\n",
    "    nstart = text.find(\"=\", nstart)\n",
    "    nend = text.find(\",\", nstart)    \n",
    "    map = float(text[nstart+2:nend ])\n",
    "    return map"
   ]
  },
  {
   "cell_type": "markdown",
   "metadata": {},
   "source": [
    "If input is this:\n",
    "[('file2', 4.3), ('file1', 2.3), ('file3', 1.2)]\n",
    "Sort the dictionary on the values, descending, and return the first, which is the biggest value"
   ]
  },
  {
   "cell_type": "code",
   "execution_count": 30,
   "metadata": {},
   "outputs": [],
   "source": [
    "def find_best_weight(maplist):\n",
    "    s = [(k, maplist[k]) for k in sorted(maplist, key=maplist.get, reverse=True)]\n",
    "    return s[0]"
   ]
  },
  {
   "cell_type": "markdown",
   "metadata": {},
   "source": [
    "This function appends the result to file."
   ]
  },
  {
   "cell_type": "code",
   "execution_count": 31,
   "metadata": {},
   "outputs": [],
   "source": [
    "def appendToResultfile(weightfilename, result):\n",
    "    with open(\"weightresult.txt\", \"a\", newline='\\r\\n') as datafile:\n",
    "        datafile.write(weightfilename + \":\" + result + \"\\n\")"
   ]
  },
  {
   "cell_type": "code",
   "execution_count": 32,
   "metadata": {},
   "outputs": [],
   "source": [
    "def execute_proc(command):    \n",
    "    return subprocess.check_output(command, shell=True).decode(\"utf-8\")    \n",
    "    "
   ]
  },
  {
   "cell_type": "markdown",
   "metadata": {},
   "source": [
    "This is the main loop. It iterates through the specified path, and checks every weight file by running the map command. The mAP is parsed from the result and added to the maplist dictionary. Edit to your setup, especially remember to set config file.\n",
    "Example commands:\n",
    "mAP \n",
    "darknet.exe detector recall data\\fp.data  yolov3-tiny-2c.cfg backup\\yolov3-2c_8300.weights\n",
    "Recall\n",
    "darknet.exe detector recall data\\fp.data  yolov3-tiny-2c.cfg backup\\yolov3-2c_8300.weights"
   ]
  },
  {
   "cell_type": "code",
   "execution_count": 35,
   "metadata": {
    "scrolled": true
   },
   "outputs": [  
   ],
   "source": [
    "filelist = [f for f in listdir(path)]\n",
    "maplist = dict()\n",
    "\n",
    "for file in filelist:  \n",
    "    res = subprocess.check_output([\"darknet\", \"detector\", \"map\", \"data/fp.data\", \"yolov3-tiny-2c.cfg\", \"backup/\" + str(file)], shell=True).decode(\"utf-8\")               \n",
    "    currentmap = find_map_in(res)\n",
    "    print(file, \": \", currentmap)    \n",
    "    appendToResultfile(file, str(currentmap))\n",
    "    maplist[str(file)] = currentmap\n"
   ]
  },
  {
   "cell_type": "code",
   "execution_count": 36,
   "metadata": {},
   "outputs": [
    {
     "data": {
      "text/plain": [
       "('yolov3-tiny-2c_17800.weights', 0.909057)"
      ]
     },
     "execution_count": 36,
     "metadata": {},
     "output_type": "execute_result"
    }
   ],
   "source": [
    "s = find_best_weight(maplist)\n",
    "s"
   ]
  }
 ],
 "metadata": {
  "kernelspec": {
   "display_name": "Python 3",
   "language": "python",
   "name": "python3"
  },
  "language_info": {
   "codemirror_mode": {
    "name": "ipython",
    "version": 3
   },
   "file_extension": ".py",
   "mimetype": "text/x-python",
   "name": "python",
   "nbconvert_exporter": "python",
   "pygments_lexer": "ipython3",
   "version": "3.6.5"
  }
 },
 "nbformat": 4,
 "nbformat_minor": 2
}
