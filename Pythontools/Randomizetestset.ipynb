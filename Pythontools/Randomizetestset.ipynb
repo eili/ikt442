{
 "cells": [
  {
   "cell_type": "markdown",
   "metadata": {},
   "source": [
    "This tool is used to create two separate sets for test and validation. There is one main image library, set by imgpath. All images have an associated annotation file. Create two directories, train and val. A random set of images and their annotation files are taken from imgpath and copied to train directory, the rest are copied to val. "
   ]
  },
  {
   "cell_type": "code",
   "execution_count": 1,
   "metadata": {},
   "outputs": [],
   "source": [
    "from os import listdir\n",
    "from os.path import splitext\n",
    "from random import choices, shuffle\n",
    "from shutil import copyfile\n",
    "import ntpath"
   ]
  },
  {
   "cell_type": "code",
   "execution_count": 15,
   "metadata": {},
   "outputs": [],
   "source": [
    "datapath=\"data/fp/\"\n",
    "imgpath=\"data/fp/img/\"\n",
    "train_file = datapath + \"train.txt\"\n",
    "val_file = datapath + \"val.txt\"\n",
    "train_path=\"data/fp/train/\"\n",
    "val_path=\"data/fp/val/\""
   ]
  },
  {
   "cell_type": "code",
   "execution_count": 3,
   "metadata": {},
   "outputs": [],
   "source": [
    "def appendToTrainfile(filename):\n",
    "    with open(train_file, \"a\", newline='\\r\\n') as datafile:\n",
    "        datafile.write(train_path + filename + \"\\n\")"
   ]
  },
  {
   "cell_type": "code",
   "execution_count": 4,
   "metadata": {},
   "outputs": [],
   "source": [
    "def appendToValfile(filename):\n",
    "    with open(val_file, \"a\", newline='\\r\\n') as datafile:\n",
    "        datafile.write(val_path + filename + \"\\n\")"
   ]
  },
  {
   "cell_type": "markdown",
   "metadata": {},
   "source": [
    "copyfileToTrain: copy file to the train directory. Perform augmentation on these files."
   ]
  },
  {
   "cell_type": "code",
   "execution_count": 5,
   "metadata": {},
   "outputs": [],
   "source": [
    "def copyfileToTrain(filename):\n",
    "    copyfile(imgpath + filename, train_path + filename)"
   ]
  },
  {
   "cell_type": "code",
   "execution_count": 16,
   "metadata": {},
   "outputs": [],
   "source": [
    "def copyfileToVal(filename):\n",
    "    copyfile(imgpath + filename, val_path + filename)"
   ]
  },
  {
   "cell_type": "code",
   "execution_count": 7,
   "metadata": {},
   "outputs": [
    {
     "name": "stdout",
     "output_type": "stream",
     "text": [
      "data/fp/\n"
     ]
    }
   ],
   "source": [
    "print(datapath)"
   ]
  },
  {
   "cell_type": "code",
   "execution_count": 10,
   "metadata": {},
   "outputs": [
    {
     "data": {
      "text/plain": [
       "['2010_004529.jpg',\n",
       " '88.jpg',\n",
       " 'IMG_1168.jpg',\n",
       " '130.jpg',\n",
       " '2010_006967.jpg',\n",
       " '2011_004927.jpg',\n",
       " 'IMG_1131.jpg',\n",
       " '37.jpg',\n",
       " '128.jpg',\n",
       " '41.jpg',\n",
       " 'IMG_1126.jpg',\n",
       " '2011_001942.jpg',\n",
       " '121.jpg',\n",
       " '1796.jpg',\n",
       " '39.jpg',\n",
       " '90.jpg',\n",
       " '69.jpg',\n",
       " '15.jpg',\n",
       " '2009_002917.jpg',\n",
       " '2188.jpg',\n",
       " '2011_001974.jpg',\n",
       " 'IMG_1135.jpg',\n",
       " '111.jpg',\n",
       " '007423.jpg',\n",
       " '2007_008567.jpg',\n",
       " 'IMG_1123.jpg',\n",
       " 'IMG_1136.jpg',\n",
       " 'IMG_1103.jpg',\n",
       " '129.jpg',\n",
       " 'IMG_1127.jpg',\n",
       " '107.jpg',\n",
       " '2010_006715.jpg',\n",
       " '1972.jpg',\n",
       " '57.jpg',\n",
       " '2008_001142.jpg',\n",
       " 'IMG_1132.jpg',\n",
       " '44.jpg',\n",
       " '006138.jpg',\n",
       " '20.jpg',\n",
       " '670.jpg',\n",
       " '2009_004186.jpg',\n",
       " '105.jpg',\n",
       " '34.jpg',\n",
       " '007938.jpg',\n",
       " '94.jpg',\n",
       " '2010_005119.jpg',\n",
       " '2010_005868.jpg',\n",
       " '125.jpg',\n",
       " '2011_005582.jpg',\n",
       " 'IMG_1130.jpg',\n",
       " '2010_000117.jpg',\n",
       " '53.jpg',\n",
       " 'IMG_1124.jpg',\n",
       " '2010_006699.jpg',\n",
       " '29751.jpg',\n",
       " '9.jpg',\n",
       " '006718.jpg',\n",
       " '006250.jpg',\n",
       " '24_augm4.jpg',\n",
       " '006617.jpg',\n",
       " '2012_003896.jpg',\n",
       " '67.jpg',\n",
       " '684.jpg',\n",
       " '1772.jpg',\n",
       " '649.jpg',\n",
       " '131.jpg',\n",
       " '6.jpg',\n",
       " 'IMG_1107.jpg',\n",
       " '89.jpg',\n",
       " '772.jpg',\n",
       " '81.jpg',\n",
       " '99.jpg',\n",
       " 'IMG_1118.jpg',\n",
       " '2008_002167.jpg',\n",
       " '86.jpg',\n",
       " '00501.jpg',\n",
       " '22.jpg',\n",
       " 'IMG_1119.jpg',\n",
       " '59.jpg',\n",
       " '668.jpg',\n",
       " '006155.jpg',\n",
       " '2010_002102.jpg',\n",
       " 'IMG_1133.jpg',\n",
       " '2008_002665.jpg',\n",
       " '55.jpg',\n",
       " 'ny_ts4.jpg',\n",
       " 'IMG_1166.jpg',\n",
       " '2011_003951.jpg',\n",
       " '2008_002643.jpg',\n",
       " '006767.jpg',\n",
       " 'IMG_1125.jpg',\n",
       " 'IMG_1113.jpg',\n",
       " '28.jpg',\n",
       " 'ny_ts3.jpg',\n",
       " '009042.jpg',\n",
       " '005988.jpg',\n",
       " 'IMG_1137.jpg',\n",
       " '11.jpg',\n",
       " '62.jpg',\n",
       " '652.jpg',\n",
       " 'IMG_1105.jpg',\n",
       " '2011_005261.jpg',\n",
       " 'IMG_1121.jpg',\n",
       " '2011_005262.jpg',\n",
       " '102.jpg',\n",
       " 'IMG_1167.jpg',\n",
       " '60.jpg',\n",
       " '65.jpg',\n",
       " '70.jpg',\n",
       " '29.jpg',\n",
       " '2012_004289.jpg',\n",
       " '50.jpg',\n",
       " '2010_001478.jpg',\n",
       " '2010_003813.jpg',\n",
       " '132.jpg',\n",
       " '110.jpg',\n",
       " '58.jpg',\n",
       " '8.jpg',\n",
       " 'ny_ts8.jpg',\n",
       " '32.jpg',\n",
       " '96.jpg',\n",
       " 'IMG_1134.jpg',\n",
       " '80.jpg',\n",
       " '10.jpg',\n",
       " '24.jpg',\n",
       " '2008_005111.jpg',\n",
       " 'ny_ts7.jpg',\n",
       " '87.jpg',\n",
       " '00251.jpg',\n",
       " '2008_003330.jpg',\n",
       " '2008_003333.jpg',\n",
       " '7.jpg',\n",
       " '83.jpg',\n",
       " '38.jpg',\n",
       " '32351.jpg',\n",
       " '68.jpg',\n",
       " '120.jpg',\n",
       " '61.jpg',\n",
       " '71.jpg',\n",
       " '84.jpg',\n",
       " '54.jpg',\n",
       " '104.jpg',\n",
       " '2011_003988.jpg',\n",
       " 'IMG_1114.jpg',\n",
       " 'ny_ts6.jpg',\n",
       " 'IMG_1117.jpg',\n",
       " 'IMG_1115.jpg',\n",
       " '2008_004205.jpg',\n",
       " '124.jpg',\n",
       " '56.jpg',\n",
       " '21.jpg',\n",
       " '12.jpg',\n",
       " '2010_001043.jpg',\n",
       " '122.jpg',\n",
       " 'IMG_1139.jpg',\n",
       " '2010_006717.jpg',\n",
       " '108.jpg',\n",
       " 'ny_ts1.jpg',\n",
       " '52.jpg',\n",
       " '27.jpg',\n",
       " '82.jpg',\n",
       " '30.jpg',\n",
       " 'IMG_1120.jpg',\n",
       " 'IMG_1128.jpg',\n",
       " '676.jpg',\n",
       " 'IMG_1164.jpg',\n",
       " '100.jpg',\n",
       " '66.jpg',\n",
       " '72.jpg',\n",
       " '40.jpg',\n",
       " '103.jpg',\n",
       " 'IMG_1104.jpg',\n",
       " '2008_003920.jpg',\n",
       " 'IMG_1110.jpg',\n",
       " '23.jpg',\n",
       " '33.jpg',\n",
       " '1791.jpg',\n",
       " '98.jpg',\n",
       " '31.jpg',\n",
       " 'IMG_1138.jpg',\n",
       " 'IMG_1112.jpg',\n",
       " '2011_006382.jpg',\n",
       " '14.jpg',\n",
       " '1887.jpg',\n",
       " 'ny_ts5.jpg',\n",
       " '126.jpg',\n",
       " '13.jpg',\n",
       " '95.jpg',\n",
       " '63.jpg',\n",
       " '43.jpg',\n",
       " '1780.jpg',\n",
       " '127.jpg',\n",
       " '2008_004730.jpg',\n",
       " '2011_005293.jpg',\n",
       " '93.jpg',\n",
       " 'IMG_1111.jpg',\n",
       " 'IMG_1129.jpg',\n",
       " 'IMG_1106.jpg',\n",
       " '2012_004283.jpg',\n",
       " '109.jpg',\n",
       " 'IMG_1165.jpg',\n",
       " 'IMG_1109.jpg',\n",
       " '006990.jpg',\n",
       " 'IMG_1122.jpg',\n",
       " 'IMG_1108.jpg',\n",
       " '97.jpg',\n",
       " '3.jpg',\n",
       " '85.jpg',\n",
       " '123.jpg',\n",
       " '2012_004053.jpg',\n",
       " '1.jpg',\n",
       " '101.jpg',\n",
       " 'IMG_1116.jpg',\n",
       " '2.jpg',\n",
       " '2008_006944.jpg',\n",
       " '2008_002829.jpg',\n",
       " '2011_000454.jpg',\n",
       " '2010_006970.jpg',\n",
       " '64.jpg',\n",
       " '2010_003276.jpg',\n",
       " '5.jpg',\n",
       " '25.jpg',\n",
       " '2011_006221.jpg',\n",
       " '007892.jpg',\n",
       " '006962.jpg',\n",
       " '106.jpg',\n",
       " '657.jpg',\n",
       " '51.jpg',\n",
       " 'IMG_1102.jpg',\n",
       " '91.jpg',\n",
       " '0700.jpg',\n",
       " '00601.jpg',\n",
       " 'ny_ts2.jpg',\n",
       " '4.jpg',\n",
       " '92.jpg',\n",
       " '008510.jpg',\n",
       " '35.jpg']"
      ]
     },
     "execution_count": 10,
     "metadata": {},
     "output_type": "execute_result"
    }
   ],
   "source": [
    "filelist = [f for f in listdir(imgpath) if f.endswith(\".jpg\")]\n",
    "shuffle(filelist)\n",
    "filelist"
   ]
  },
  {
   "cell_type": "markdown",
   "metadata": {},
   "source": [
    "Specify the fraction to be used for validation, for instance, 20% validation set multiply with numfiles with 0.2"
   ]
  },
  {
   "cell_type": "code",
   "execution_count": 13,
   "metadata": {},
   "outputs": [
    {
     "name": "stdout",
     "output_type": "stream",
     "text": [
      "237 190 47\n"
     ]
    }
   ],
   "source": [
    "numfiles = len(filelist)\n",
    "n_val = round(numfiles * .2)\n",
    "n_train = numfiles - n_val\n",
    "#numfiles\n",
    "#n_train\n",
    "print(numfiles, n_train, n_val)"
   ]
  },
  {
   "cell_type": "code",
   "execution_count": 14,
   "metadata": {},
   "outputs": [],
   "source": [
    "tr_files = filelist[:n_train]\n",
    "\n",
    "for f in tr_files:\n",
    "    appendToTrainfile(f)\n",
    "    file_name,extension = splitext(f)\n",
    "    copyfileToTrain(f)\n",
    "    copyfileToTrain(file_name + \".txt\")\n",
    "    "
   ]
  },
  {
   "cell_type": "code",
   "execution_count": 18,
   "metadata": {},
   "outputs": [],
   "source": [
    "val_files = filelist[n_train:]\n",
    "\n",
    "for f in val_files:\n",
    "    #appendToValfile(f)\n",
    "    file_name,extension = splitext(f)\n",
    "    copyfileToVal(f)\n",
    "    copyfileToVal(file_name + \".txt\")\n",
    "     "
   ]
  },
  {
   "cell_type": "code",
   "execution_count": null,
   "metadata": {},
   "outputs": [],
   "source": []
  }
 ],
 "metadata": {
  "kernelspec": {
   "display_name": "Python 3",
   "language": "python",
   "name": "python3"
  },
  "language_info": {
   "codemirror_mode": {
    "name": "ipython",
    "version": 3
   },
   "file_extension": ".py",
   "mimetype": "text/x-python",
   "name": "python",
   "nbconvert_exporter": "python",
   "pygments_lexer": "ipython3",
   "version": "3.6.5"
  }
 },
 "nbformat": 4,
 "nbformat_minor": 2
}
