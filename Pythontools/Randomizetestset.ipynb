{
 "cells": [
  {
   "cell_type": "markdown",
   "metadata": {},
   "source": [
    "This tool is used to create two separate sets for test and validation. There is one main image library, set by imgpath. All images have an associated annotation file. Create two directories, train and val. A random set of images and their annotation files are taken from imgpath and copied to train directory, the rest are copied to val. "
   ]
  },
  {
   "cell_type": "code",
   "execution_count": 1,
   "metadata": {},
   "outputs": [],
   "source": [
    "from os import listdir\n",
    "from os.path import splitext\n",
    "from random import choices, shuffle\n",
    "from shutil import copyfile\n",
    "import ntpath"
   ]
  },
  {
   "cell_type": "code",
   "execution_count": 15,
   "metadata": {},
   "outputs": [],
   "source": [
    "datapath=\"data/fp/\"\n",
    "imgpath=\"data/fp/img/\"\n",
    "train_file = datapath + \"train.txt\"\n",
    "val_file = datapath + \"val.txt\"\n",
    "train_path=\"data/fp/train/\"\n",
    "val_path=\"data/fp/val/\""
   ]
  },
  {
   "cell_type": "code",
   "execution_count": 3,
   "metadata": {},
   "outputs": [],
   "source": [
    "def appendToTrainfile(filename):\n",
    "    with open(train_file, \"a\", newline='\\r\\n') as datafile:\n",
    "        datafile.write(train_path + filename + \"\\n\")"
   ]
  },
  {
   "cell_type": "code",
   "execution_count": 4,
   "metadata": {},
   "outputs": [],
   "source": [
    "def appendToValfile(filename):\n",
    "    with open(val_file, \"a\", newline='\\r\\n') as datafile:\n",
    "        datafile.write(val_path + filename + \"\\n\")"
   ]
  },
  {
   "cell_type": "markdown",
   "metadata": {},
   "source": [
    "copyfileToTrain: copy file to the train directory. Perform augmentation on these files."
   ]
  },
  {
   "cell_type": "code",
   "execution_count": 5,
   "metadata": {},
   "outputs": [],
   "source": [
    "def copyfileToTrain(filename):\n",
    "    copyfile(imgpath + filename, train_path + filename)"
   ]
  },
  {
   "cell_type": "code",
   "execution_count": 16,
   "metadata": {},
   "outputs": [],
   "source": [
    "def copyfileToVal(filename):\n",
    "    copyfile(imgpath + filename, val_path + filename)"
   ]
  },
  {
   "cell_type": "code",
   "execution_count": 7,
   "metadata": {},
   "outputs": [
    {
     "name": "stdout",
     "output_type": "stream",
     "text": [
      "data/fp/\n"
     ]
    }
   ],
   "source": [
    "print(datapath)"
   ]
  },
  {
   "cell_type": "code",
   "execution_count": 10,
   "metadata": {},
   "outputs": [
    {
     "data": {
      "text/plain": [
       "['2010_004529.jpg',\n",
       " '88.jpg',\n",
       " 'IMG_1168.jpg',\n",
       " '130.jpg',\n",
       " '2010_006967.jpg',\n",
       " '2011_004927.jpg',\n",
       " '35.jpg']"
      ]
     },
     "execution_count": 10,
     "metadata": {},
     "output_type": "execute_result"
    }
   ],
   "source": [
    "filelist = [f for f in listdir(imgpath) if f.endswith(\".jpg\")]\n",
    "shuffle(filelist)\n",
    "filelist"
   ]
  },
  {
   "cell_type": "markdown",
   "metadata": {},
   "source": [
    "Specify the fraction to be used for validation, for instance, 20% validation set multiply with numfiles with 0.2"
   ]
  },
  {
   "cell_type": "code",
   "execution_count": 13,
   "metadata": {},
   "outputs": [
    {
     "name": "stdout",
     "output_type": "stream",
     "text": [
      "237 190 47\n"
     ]
    }
   ],
   "source": [
    "numfiles = len(filelist)\n",
    "n_val = round(numfiles * .2)\n",
    "n_train = numfiles - n_val\n",
    "#numfiles\n",
    "#n_train\n",
    "print(numfiles, n_train, n_val)"
   ]
  },
  {
   "cell_type": "code",
   "execution_count": 14,
   "metadata": {},
   "outputs": [],
   "source": [
    "tr_files = filelist[:n_train]\n",
    "\n",
    "for f in tr_files:\n",
    "    appendToTrainfile(f)\n",
    "    file_name,extension = splitext(f)\n",
    "    copyfileToTrain(f)\n",
    "    copyfileToTrain(file_name + \".txt\")\n",
    "    "
   ]
  },
  {
   "cell_type": "code",
   "execution_count": 18,
   "metadata": {},
   "outputs": [],
   "source": [
    "val_files = filelist[n_train:]\n",
    "\n",
    "for f in val_files:\n",
    "    #appendToValfile(f)\n",
    "    file_name,extension = splitext(f)\n",
    "    copyfileToVal(f)\n",
    "    copyfileToVal(file_name + \".txt\")\n",
    "     "
   ]
  },
  {
   "cell_type": "code",
   "execution_count": null,
   "metadata": {},
   "outputs": [],
   "source": []
  }
 ],
 "metadata": {
  "kernelspec": {
   "display_name": "Python 3",
   "language": "python",
   "name": "python3"
  },
  "language_info": {
   "codemirror_mode": {
    "name": "ipython",
    "version": 3
   },
   "file_extension": ".py",
   "mimetype": "text/x-python",
   "name": "python",
   "nbconvert_exporter": "python",
   "pygments_lexer": "ipython3",
   "version": "3.6.5"
  }
 },
 "nbformat": 4,
 "nbformat_minor": 2
}
